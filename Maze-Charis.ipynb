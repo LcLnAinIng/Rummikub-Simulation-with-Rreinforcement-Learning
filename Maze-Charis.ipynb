{
  "nbformat": 4,
  "nbformat_minor": 0,
  "metadata": {
    "colab": {
      "provenance": [],
      "collapsed_sections": [
        "2VhDItlZOMuX",
        "OO14NUo1V_Tm"
      ],
      "gpuType": "T4",
      "mount_file_id": "1ljZmm8Wl6bO05TzHRRc4KTYusXWnlYeV",
      "authorship_tag": "ABX9TyPl0Y7UFlQOnShz3yMXM5OU",
      "include_colab_link": true
    },
    "kernelspec": {
      "name": "python3",
      "display_name": "Python 3"
    },
    "language_info": {
      "name": "python"
    }
  },
  "cells": [
    {
      "cell_type": "markdown",
      "metadata": {
        "id": "view-in-github",
        "colab_type": "text"
      },
      "source": [
        "<a href=\"https://colab.research.google.com/github/LcLnAinIng/Rummikub-Simulation-with-Rreinforcement-Learning/blob/Maze-game/Maze-Charis.ipynb\" target=\"_parent\"><img src=\"https://colab.research.google.com/assets/colab-badge.svg\" alt=\"Open In Colab\"/></a>"
      ]
    },
    {
      "cell_type": "markdown",
      "source": [
        "# Environment Setting\n"
      ],
      "metadata": {
        "id": "o7hlcFJNE53z"
      }
    },
    {
      "cell_type": "markdown",
      "source": [
        "## Install and Import libraries"
      ],
      "metadata": {
        "id": "7kLkyKb6G6ms"
      }
    },
    {
      "cell_type": "code",
      "execution_count": null,
      "metadata": {
        "colab": {
          "base_uri": "https://localhost:8080/"
        },
        "id": "mc9IM79IE3AJ",
        "outputId": "32d171bf-90b9-4b4f-e099-9554509d95b0"
      },
      "outputs": [
        {
          "output_type": "stream",
          "name": "stdout",
          "text": [
            "Collecting swig\n",
            "  Downloading swig-4.3.1.post0-py3-none-manylinux_2_12_x86_64.manylinux2010_x86_64.whl.metadata (3.5 kB)\n",
            "Downloading swig-4.3.1.post0-py3-none-manylinux_2_12_x86_64.manylinux2010_x86_64.whl (1.9 MB)\n",
            "\u001b[2K   \u001b[90m━━━━━━━━━━━━━━━━━━━━━━━━━━━━━━━━━━━━━━━━\u001b[0m \u001b[32m1.9/1.9 MB\u001b[0m \u001b[31m18.7 MB/s\u001b[0m eta \u001b[36m0:00:00\u001b[0m\n",
            "\u001b[?25hInstalling collected packages: swig\n",
            "Successfully installed swig-4.3.1.post0\n",
            "Requirement already satisfied: gymnasium[box2d] in /usr/local/lib/python3.12/dist-packages (1.2.0)\n",
            "Requirement already satisfied: numpy>=1.21.0 in /usr/local/lib/python3.12/dist-packages (from gymnasium[box2d]) (2.0.2)\n",
            "Requirement already satisfied: cloudpickle>=1.2.0 in /usr/local/lib/python3.12/dist-packages (from gymnasium[box2d]) (3.1.1)\n",
            "Requirement already satisfied: typing-extensions>=4.3.0 in /usr/local/lib/python3.12/dist-packages (from gymnasium[box2d]) (4.15.0)\n",
            "Requirement already satisfied: farama-notifications>=0.0.1 in /usr/local/lib/python3.12/dist-packages (from gymnasium[box2d]) (0.0.4)\n",
            "Collecting box2d-py==2.3.5 (from gymnasium[box2d])\n",
            "  Downloading box2d-py-2.3.5.tar.gz (374 kB)\n",
            "\u001b[2K     \u001b[90m━━━━━━━━━━━━━━━━━━━━━━━━━━━━━━━━━━━━━━━\u001b[0m \u001b[32m374.4/374.4 kB\u001b[0m \u001b[31m6.1 MB/s\u001b[0m eta \u001b[36m0:00:00\u001b[0m\n",
            "\u001b[?25h  Preparing metadata (setup.py) ... \u001b[?25l\u001b[?25hdone\n",
            "Requirement already satisfied: pygame>=2.1.3 in /usr/local/lib/python3.12/dist-packages (from gymnasium[box2d]) (2.6.1)\n",
            "Requirement already satisfied: swig==4.* in /usr/local/lib/python3.12/dist-packages (from gymnasium[box2d]) (4.3.1.post0)\n",
            "Building wheels for collected packages: box2d-py\n",
            "  Building wheel for box2d-py (setup.py) ... \u001b[?25l\u001b[?25hdone\n",
            "  Created wheel for box2d-py: filename=box2d_py-2.3.5-cp312-cp312-linux_x86_64.whl size=2409501 sha256=c5b51404f160d45d5a3349adb7cb4db9aa479e9e54c6fb123267894326f5a6a4\n",
            "  Stored in directory: /root/.cache/pip/wheels/2a/e9/60/774da0bcd07f7dc7761a8590fa2d065e4069568e78dcdc3318\n",
            "Successfully built box2d-py\n",
            "Installing collected packages: box2d-py\n",
            "Successfully installed box2d-py-2.3.5\n"
          ]
        }
      ],
      "source": [
        "!pip install swig\n",
        "!pip install \"gymnasium[box2d]\""
      ]
    },
    {
      "cell_type": "code",
      "source": [
        "import gymnasium as gym\n",
        "from gymnasium.wrappers import FlattenObservation\n",
        "from gymnasium.utils.env_checker import check_env\n",
        "from collections import defaultdict\n",
        "import numpy as np\n",
        "from tqdm import tqdm  # Progress bar\n",
        "from matplotlib import pyplot as plt\n",
        "from typing import Optional\n",
        "from gymnasium import spaces\n",
        "import matplotlib.pyplot as plt\n",
        "seed = 1310"
      ],
      "metadata": {
        "id": "lN3akU5KFb1r"
      },
      "execution_count": null,
      "outputs": []
    },
    {
      "cell_type": "markdown",
      "source": [
        "## Google Drive"
      ],
      "metadata": {
        "id": "kSNU9_wcMi6c"
      }
    },
    {
      "cell_type": "code",
      "metadata": {
        "colab": {
          "base_uri": "https://localhost:8080/"
        },
        "id": "7258c9cc",
        "outputId": "87b17570-70dc-4b07-d86b-a5fd9fa06db6"
      },
      "source": [
        "from google.colab import drive\n",
        "drive.mount('/content/drive')  # do this once per session"
      ],
      "execution_count": null,
      "outputs": [
        {
          "output_type": "stream",
          "name": "stdout",
          "text": [
            "Mounted at /content/drive\n"
          ]
        }
      ]
    },
    {
      "cell_type": "markdown",
      "source": [
        "## git"
      ],
      "metadata": {
        "id": "KQgdAh5GHnGK"
      }
    },
    {
      "cell_type": "code",
      "source": [
        "!git add\n",
        "!git commit -m \"msg\"\n",
        "!git push origin branch"
      ],
      "metadata": {
        "id": "aB1eIGW-KWcy",
        "colab": {
          "base_uri": "https://localhost:8080/"
        },
        "outputId": "504ae77f-d15c-4465-b57f-33273dd3a10e"
      },
      "execution_count": null,
      "outputs": [
        {
          "output_type": "stream",
          "name": "stdout",
          "text": [
            "fatal: not a git repository (or any of the parent directories): .git\n"
          ]
        }
      ]
    },
    {
      "cell_type": "markdown",
      "source": [
        "if a file is new or has been modified and the changes haven't been added to the Git repo yet, do the following"
      ],
      "metadata": {
        "id": "FGM95x8qPH-r"
      }
    },
    {
      "cell_type": "code",
      "source": [
        "!git clone https://github.com/MonashDeepNeuron/Rummikub-Simulation-with-RL.git\n",
        "\n"
      ],
      "metadata": {
        "id": "ydpcHnBjO9jA",
        "colab": {
          "base_uri": "https://localhost:8080/"
        },
        "outputId": "3f75761a-c73b-46f1-e8f7-7627092b3569"
      },
      "execution_count": null,
      "outputs": [
        {
          "output_type": "stream",
          "name": "stdout",
          "text": [
            "Cloning into 'Rummikub-Simulation-with-RL'...\n",
            "remote: Enumerating objects: 4, done.\u001b[K\n",
            "remote: Counting objects: 100% (4/4), done.\u001b[K\n",
            "remote: Compressing objects: 100% (4/4), done.\u001b[K\n",
            "remote: Total 4 (delta 0), reused 0 (delta 0), pack-reused 0 (from 0)\u001b[K\n",
            "Receiving objects: 100% (4/4), done.\n"
          ]
        }
      ]
    },
    {
      "cell_type": "code",
      "source": [
        "%cd Rummikub-Simulation-with-RL"
      ],
      "metadata": {
        "colab": {
          "base_uri": "https://localhost:8080/"
        },
        "id": "4z9o5gUOEw0E",
        "outputId": "701dc17e-75b8-42a1-eb9c-bbcf03c3e33b"
      },
      "execution_count": null,
      "outputs": [
        {
          "output_type": "stream",
          "name": "stdout",
          "text": [
            "/content/Rummikub-Simulation-with-RL/Rummikub-Simulation-with-RL\n"
          ]
        }
      ]
    },
    {
      "cell_type": "code",
      "source": [
        "!git checkout Maze-game\n"
      ],
      "metadata": {
        "colab": {
          "base_uri": "https://localhost:8080/"
        },
        "id": "hDMDrx0bB1ww",
        "outputId": "f639191e-0d29-4721-9899-564439398a23"
      },
      "execution_count": null,
      "outputs": [
        {
          "output_type": "stream",
          "name": "stdout",
          "text": [
            "Branch 'Maze-game' set up to track remote branch 'Maze-game' from 'origin'.\n",
            "Switched to a new branch 'Maze-game'\n"
          ]
        }
      ]
    },
    {
      "cell_type": "markdown",
      "source": [
        "# First trial"
      ],
      "metadata": {
        "id": "2VhDItlZOMuX"
      }
    },
    {
      "cell_type": "markdown",
      "source": [
        "## Environment"
      ],
      "metadata": {
        "id": "OO14NUo1V_Tm"
      }
    },
    {
      "cell_type": "code",
      "source": [
        "env_row = 5\n",
        "env_column = 5\n"
      ],
      "metadata": {
        "id": "adiu0GPkWBvV"
      },
      "execution_count": null,
      "outputs": []
    },
    {
      "cell_type": "code",
      "source": [
        "'''\n",
        "# define the action\n",
        "up = 0\n",
        "down = 1\n",
        "left = 2\n",
        "right = 3\n",
        "'''\n",
        "actions = [\"up\", \"down\", \"left\", \"right\"]\n",
        "\n",
        "q_values = np.zeros((env_row, env_column, len(actions))) # we have 5rows, 5columns, and 4 actions"
      ],
      "metadata": {
        "id": "FgrPFIRE9diW"
      },
      "execution_count": null,
      "outputs": []
    },
    {
      "cell_type": "code",
      "source": [
        "reward_matrix = np.full((env_row, env_column), -1)\n",
        "reward_matrix[-1, -1] = 100 # the reward of the goal is 100\n",
        "for rows in reward_matrix:\n",
        "  print(rows)"
      ],
      "metadata": {
        "colab": {
          "base_uri": "https://localhost:8080/"
        },
        "id": "HBBfVtlN-too",
        "outputId": "fd99f501-682d-4d37-e9ca-25230963180f"
      },
      "execution_count": null,
      "outputs": [
        {
          "output_type": "stream",
          "name": "stdout",
          "text": [
            "[-1 -1 -1 -1 -1]\n",
            "[-1 -1 -1 -1 -1]\n",
            "[-1 -1 -1 -1 -1]\n",
            "[-1 -1 -1 -1 -1]\n",
            "[ -1  -1  -1  -1 100]\n"
          ]
        }
      ]
    },
    {
      "cell_type": "code",
      "source": [
        "# to see if the specified location is a terminal state\n",
        "# def is_terminal_state(current_row_index, current_column_index):\n",
        "#   if reward[current_row_index, current_column_index] == -100:\n",
        "#     return False\n",
        "#   else:\n",
        "#     return True\n",
        "def is_terminal_state(current_row_index, current_column_index):\n",
        "    return (current_row_index == env_row - 1) and (current_column_index == env_column - 1)\n",
        "\n",
        "\n",
        "# starting location\n",
        "def get_starting_location():\n",
        "  return 0, 0\n",
        "\n",
        "# Get next action - epsilon greedy algo\n",
        "# if a randomly chosen value, which is between 0 and 1, is < epsilon\n",
        "# then choose the most promising value from Q-table for this state\n",
        "def get_next_action(current_row_index, current_column_index, epsilon):\n",
        "    if np.random.random() < epsilon:\n",
        "        # Exploration – pick a random action\n",
        "        return np.random.randint(4)\n",
        "    else:\n",
        "        # Exploitation – pick best action\n",
        "        return np.argmax(q_values[current_row_index, current_column_index])\n"
      ],
      "metadata": {
        "id": "NJHeUPlhAwjP"
      },
      "execution_count": null,
      "outputs": []
    },
    {
      "cell_type": "code",
      "source": [
        "#define a function that will get the next location based on the chosen action\n",
        "def get_next_location(current_row_index, current_column_index, action_index):\n",
        "    new_row_index, new_column_index = current_row_index, current_column_index\n",
        "\n",
        "    if actions[action_index] == 'up' and current_row_index > 0:\n",
        "        new_row_index -= 1\n",
        "    elif actions[action_index] == 'right' and current_column_index < env_column - 1:\n",
        "        new_column_index += 1\n",
        "    elif actions[action_index] == 'down' and current_row_index < env_row - 1:\n",
        "        new_row_index += 1\n",
        "    elif actions[action_index] == 'left' and current_column_index > 0:\n",
        "        new_column_index -= 1\n",
        "\n",
        "    return new_row_index, new_column_index\n"
      ],
      "metadata": {
        "id": "oay0OTjzCwit"
      },
      "execution_count": null,
      "outputs": []
    },
    {
      "cell_type": "code",
      "source": [
        "#Define a function that will get the shortest path between any location within the maze that\n",
        "#the robot is allowed to travel and the item packaging location.\n",
        "def get_shortest_path(start_row_index, start_column_index):\n",
        "  #return immediately if this is an invalid starting location\n",
        "  if is_terminal_state(start_row_index, start_column_index):\n",
        "    return []\n",
        "  else: #if this is a 'legal' starting location\n",
        "    current_row_index, current_column_index = start_row_index, start_column_index\n",
        "    shortest_path = []\n",
        "    shortest_path.append([current_row_index, current_column_index])\n",
        "    #continue moving along the path until we reach the goal (i.e., the bottom right corner)\n",
        "    while not is_terminal_state(current_row_index, current_column_index):\n",
        "      #get the best action to take\n",
        "      action_index = get_next_action(current_row_index, current_column_index, 1.)\n",
        "      #move to the next location on the path, and add the new location to the list\n",
        "      current_row_index, current_column_index = get_next_location(current_row_index, current_column_index, action_index)\n",
        "      shortest_path.append([current_row_index, current_column_index])\n",
        "    return shortest_path"
      ],
      "metadata": {
        "id": "AwR8O7slDZMf"
      },
      "execution_count": null,
      "outputs": []
    },
    {
      "cell_type": "code",
      "source": [],
      "metadata": {
        "id": "a2Scbt4NEhPW"
      },
      "execution_count": null,
      "outputs": []
    },
    {
      "cell_type": "markdown",
      "source": [
        "## Agent"
      ],
      "metadata": {
        "id": "Cf3-rBcHWAs-"
      }
    },
    {
      "cell_type": "code",
      "source": [
        "#define training parameters\n",
        "epsilon = 0.9 #the percentage of time when we should take the best action (instead of a random action)\n",
        "discount_factor = 0.9 #discount factor for future rewards\n",
        "learning_rate = 0.9 #the rate at which the AI agent should learn\n",
        "\n",
        "#run through 1000 training episodes\n",
        "for episode in range(1000):\n",
        "  #get the starting location for this episode\n",
        "  row_index, column_index = get_starting_location()\n",
        "\n",
        "  #continue taking actions (i.e., moving) until we reach a terminal state\n",
        "  #(i.e., until we reach the item packaging area or crash into an item storage location)\n",
        "  while not is_terminal_state(row_index, column_index):\n",
        "    #choose which action to take (i.e., where to move next)\n",
        "    action_index = get_next_action(row_index, column_index, epsilon)\n",
        "\n",
        "    #perform the chosen action, and transition to the next state (i.e., move to the next location)\n",
        "    old_row_index, old_column_index = row_index, column_index #store the old row and column indexes\n",
        "    row_index, column_index = get_next_location(row_index, column_index, action_index)\n",
        "\n",
        "    #receive the reward for moving to the new state, and calculate the temporal difference\n",
        "    reward = reward_matrix[row_index, column_index]\n",
        "    old_q_value = q_values[old_row_index, old_column_index, action_index]\n",
        "    temporal_difference = reward + (discount_factor * np.max(q_values[row_index, column_index])) - old_q_value\n",
        "\n",
        "    #update the Q-value for the previous state and action pair\n",
        "    new_q_value = old_q_value + (learning_rate * temporal_difference)\n",
        "    q_values[old_row_index, old_column_index, action_index] = new_q_value\n",
        "\n",
        "print('Training complete!')"
      ],
      "metadata": {
        "id": "rQSIKNMAWCNB",
        "colab": {
          "base_uri": "https://localhost:8080/"
        },
        "outputId": "51dbc82b-d198-4aab-d117-53a23be0a895"
      },
      "execution_count": null,
      "outputs": [
        {
          "output_type": "stream",
          "name": "stdout",
          "text": [
            "Training complete!\n"
          ]
        }
      ]
    },
    {
      "cell_type": "code",
      "source": [
        "#display a few shortest paths\n",
        "print(get_shortest_path(3, 3)) #starting at row 3, column 9\n",
        "print(get_shortest_path(2, 0)) #starting at row 5, column 0\n",
        "print(get_shortest_path(4, 1)) #starting at row 9, column 5"
      ],
      "metadata": {
        "colab": {
          "base_uri": "https://localhost:8080/"
        },
        "id": "cjgog2IIEweb",
        "outputId": "b28db1ec-5c7f-4073-b6e0-002dd1c1e580"
      },
      "execution_count": null,
      "outputs": [
        {
          "output_type": "stream",
          "name": "stdout",
          "text": [
            "[]\n",
            "[]\n",
            "[]\n"
          ]
        }
      ]
    },
    {
      "cell_type": "code",
      "source": [
        "#display an example of reversed shortest path\n",
        "path = get_shortest_path(4, 2) #go to row 5, column 2\n",
        "path.reverse()\n",
        "print(path)"
      ],
      "metadata": {
        "colab": {
          "base_uri": "https://localhost:8080/"
        },
        "id": "ZC1naaMrEx5p",
        "outputId": "fd735a65-56c8-40b3-ebd9-23f9a9306917"
      },
      "execution_count": null,
      "outputs": [
        {
          "output_type": "stream",
          "name": "stdout",
          "text": [
            "[]\n"
          ]
        }
      ]
    },
    {
      "cell_type": "markdown",
      "source": [
        "# Second trial"
      ],
      "metadata": {
        "id": "LoxqcpwJOQL9"
      }
    },
    {
      "cell_type": "markdown",
      "source": [
        "## Environment 2"
      ],
      "metadata": {
        "id": "HfKOgg1iOZrn"
      }
    },
    {
      "cell_type": "code",
      "source": [
        "class MazeEnv(gym.Env):\n",
        "    metadata = {\"render_modes\": [\"human\"]}\n",
        "\n",
        "    def __init__(self, render_mode: str = None):\n",
        "        super(MazeEnv, self).__init__()\n",
        "\n",
        "        # Define 5x5 grid\n",
        "        self.grid_size = 5\n",
        "        self.observation_space = spaces.MultiDiscrete([self.grid_size, self.grid_size])\n",
        "        self.action_space = spaces.Discrete(4)  # up, down, left, right\n",
        "\n",
        "        self.actions = [\"up\", \"down\", \"left\", \"right\"]\n",
        "        self.agent_pos = [0, 0]\n",
        "        self.goal_pos = [4, 4]\n",
        "\n",
        "        # Rewards\n",
        "        self.reward_matrix = np.full((self.grid_size, self.grid_size), -1)\n",
        "        self.reward_matrix[self.goal_pos[0], self.goal_pos[1]] = 100\n",
        "        self.render_mode = render_mode\n",
        "\n",
        "    def _is_within_bounds(self, row, col):\n",
        "      return 0 <= row < self.grid_size and 0 <= col < self.grid_size\n",
        "\n",
        "    def reset(self, seed=None, options=None):\n",
        "        super().reset(seed=seed)\n",
        "        self.agent_pos = [0, 0] # Set the player back to the top-left corner\n",
        "        return np.array(self.agent_pos, dtype=int), {}\n",
        "        # return the starting state of the env\n",
        "        # also return Optional metadata.\n",
        "          #It can include debug information or anything extra the environment wants to expose\n",
        "\n",
        "    def step(self, action):\n",
        "        row, col = self.agent_pos\n",
        "\n",
        "        if action == 0 and row > 0:  # up\n",
        "            row -= 1\n",
        "        elif action == 1 and row < self.grid_size - 1:  # down\n",
        "            row += 1\n",
        "        elif action == 2 and col > 0:  # left\n",
        "            col -= 1\n",
        "        elif action == 3 and col < self.grid_size - 1:  # right\n",
        "            col += 1\n",
        "\n",
        "        if self._is_within_bounds(row, col):\n",
        "            self.agent_pos = [row, col]\n",
        "\n",
        "        reward = self.reward_matrix[self.agent_pos[0], self.agent_pos[1]]\n",
        "        done = (self.agent_pos == self.goal_pos)\n",
        "\n",
        "        return np.array(self.agent_pos, dtype=int), reward, done, False, {}\n",
        "\n",
        "    def render(self):\n",
        "        grid = np.full((self.grid_size, self.grid_size), \"⬜\")\n",
        "        grid[self.goal_pos[0], self.goal_pos[1]] = \"🏁\"\n",
        "        grid[self.agent_pos[0], self.agent_pos[1]] = \"🤖\"\n",
        "        for row in grid:\n",
        "            print(\" \".join(row))\n",
        "        print(\"\\n\")"
      ],
      "metadata": {
        "id": "Iycx1KZ7OcNN"
      },
      "execution_count": null,
      "outputs": []
    },
    {
      "cell_type": "markdown",
      "source": [
        "## Q-Learning"
      ],
      "metadata": {
        "id": "NvmfKm-2Srh3"
      }
    },
    {
      "cell_type": "markdown",
      "source": [
        "**Temporal Difference** \\\n",
        "`td` stands for Temporal Difference error. \\\n",
        "* It measures how surprised the agent is by what just happened.\\\n",
        "$$TD=[\\text{What I got}]+[\\text{Future prediction}]−[\\text{What I expected}]$$\n",
        "\n",
        "`gamma` is a **Discount Factor**\n",
        "* between 0 and 1\n",
        "* It controls how much the agent cares about future rewards vs. immediate rewards\n",
        "* the closer to 0, the more it cares about immediate reward\\\n",
        "\n",
        "\\\n",
        "`alpha` is the **learning rate**"
      ],
      "metadata": {
        "id": "CiopVkvJWLYV"
      }
    },
    {
      "cell_type": "code",
      "source": [
        "# --- Q-Learning ---\n",
        "def train_q_learning(env, episodes=1000, epsilon=0.9, alpha=0.9, gamma=0.9):\n",
        "    q_table = np.zeros((env.grid_size, env.grid_size, env.action_space.n))\n",
        "    rewards_per_episode = []\n",
        "    first_path = []\n",
        "    last_path = []\n",
        "\n",
        "    for ep in range(episodes):\n",
        "        state, _ = env.reset()\n",
        "        total_reward = 0\n",
        "        done = False\n",
        "\n",
        "        path = [state.tolist()]\n",
        "\n",
        "        while not done:\n",
        "            row, col = state\n",
        "            if np.random.random() < epsilon:\n",
        "                action = np.random.randint(4)\n",
        "            else:\n",
        "                action = np.argmax(q_table[row, col])\n",
        "\n",
        "            next_state, reward, done, _, _ = env.step(action)\n",
        "\n",
        "            next_row, next_col = next_state\n",
        "            old_q = q_table[row, col, action]\n",
        "            td = reward + gamma * np.max(q_table[next_row, next_col]) - old_q\n",
        "            q_table[row, col, action] = old_q + alpha * td\n",
        "\n",
        "            state = next_state\n",
        "            path.append(state.tolist())\n",
        "            total_reward += reward\n",
        "\n",
        "        if ep == 0:\n",
        "            first_path = path.copy()\n",
        "        if ep == episodes - 1:\n",
        "            last_path = path.copy()\n",
        "\n",
        "        rewards_per_episode.append(total_reward)\n",
        "\n",
        "    return q_table, rewards_per_episode, first_path, last_path"
      ],
      "metadata": {
        "id": "wvRcGmOeSs1H"
      },
      "execution_count": null,
      "outputs": []
    },
    {
      "cell_type": "markdown",
      "source": [
        "## Visualization"
      ],
      "metadata": {
        "id": "XSaglla8XWOz"
      }
    },
    {
      "cell_type": "code",
      "source": [
        "# --- Visualization ---\n",
        "def plot_rewards(rewards):\n",
        "    plt.plot(rewards)\n",
        "    plt.xlabel(\"Episode\")\n",
        "    plt.ylabel(\"Total Reward\")\n",
        "    plt.title(\"Training Progress\")\n",
        "    plt.grid(True)\n",
        "    plt.show()\n",
        "\n",
        "def print_path_comparison(first_path, last_path):\n",
        "    print(\"First Episode Path:\")\n",
        "    print(\" -> \".join([f\"{p}\" for p in first_path]))\n",
        "    print(\"\\nLast Episode Path:\")\n",
        "    print(\" -> \".join([f\"{p}\" for p in last_path]))"
      ],
      "metadata": {
        "id": "kfP60njWXXuC"
      },
      "execution_count": null,
      "outputs": []
    },
    {
      "cell_type": "markdown",
      "source": [
        "## Run Everything"
      ],
      "metadata": {
        "id": "iNG6h-e-XYMf"
      }
    },
    {
      "cell_type": "code",
      "source": [
        "if __name__ == \"__main__\":\n",
        "    env = MazeEnv()  # No need for gym.make() since it's a custom env\n",
        "    q_table, rewards, first_path, last_path = train_q_learning(env, episodes=5000)\n",
        "    plot_rewards(rewards)\n",
        "    print_path_comparison(first_path, last_path)\n",
        "\n",
        "    # Show shortest path from start\n",
        "    state, _ = env.reset()\n",
        "    done = False\n",
        "    env.render()\n",
        "    while not done:\n",
        "        row, col = state\n",
        "        action = np.argmax(q_table[row, col])\n",
        "        state, _, done, _, _ = env.step(action)\n",
        "        env.render()"
      ],
      "metadata": {
        "colab": {
          "base_uri": "https://localhost:8080/",
          "height": 1000
        },
        "id": "nwBTeoQ-XbAx",
        "outputId": "f4f2bd4f-fdc2-431e-fa81-641dc9e6298c"
      },
      "execution_count": null,
      "outputs": [
        {
          "output_type": "display_data",
          "data": {
            "text/plain": [
              "<Figure size 640x480 with 1 Axes>"
            ],
            "image/png": "[encoded data removed]"
          },
          "metadata": {}
        },
        {
          "output_type": "stream",
          "name": "stdout",
          "text": [
            "First Episode Path:\n",
            "[0, 0] -> [1, 0] -> [2, 0] -> [3, 0] -> [4, 0] -> [3, 0] -> [4, 0] -> [4, 0] -> [4, 0] -> [4, 1] -> [3, 1] -> [3, 2] -> [4, 2] -> [4, 2] -> [4, 1] -> [4, 2] -> [4, 2] -> [4, 2] -> [3, 2] -> [4, 2] -> [4, 2] -> [4, 2] -> [4, 1] -> [3, 1] -> [3, 2] -> [4, 2] -> [4, 2] -> [4, 2] -> [4, 1] -> [4, 1] -> [4, 2] -> [4, 3] -> [4, 4]\n",
            "\n",
            "Last Episode Path:\n",
            "[0, 0] -> [0, 0] -> [1, 0] -> [1, 1] -> [1, 2] -> [1, 1] -> [1, 2] -> [2, 2] -> [1, 2] -> [2, 2] -> [2, 1] -> [2, 0] -> [2, 1] -> [3, 1] -> [4, 1] -> [3, 1] -> [3, 0] -> [3, 1] -> [4, 1] -> [4, 0] -> [4, 1] -> [3, 1] -> [3, 2] -> [3, 3] -> [4, 3] -> [4, 4]\n",
            "🤖 ⬜ ⬜ ⬜ ⬜\n",
            "⬜ ⬜ ⬜ ⬜ ⬜\n",
            "⬜ ⬜ ⬜ ⬜ ⬜\n",
            "⬜ ⬜ ⬜ ⬜ ⬜\n",
            "⬜ ⬜ ⬜ ⬜ 🏁\n",
            "\n",
            "\n",
            "⬜ ⬜ ⬜ ⬜ ⬜\n",
            "🤖 ⬜ ⬜ ⬜ ⬜\n",
            "⬜ ⬜ ⬜ ⬜ ⬜\n",
            "⬜ ⬜ ⬜ ⬜ ⬜\n",
            "⬜ ⬜ ⬜ ⬜ 🏁\n",
            "\n",
            "\n",
            "⬜ ⬜ ⬜ ⬜ ⬜\n",
            "⬜ ⬜ ⬜ ⬜ ⬜\n",
            "🤖 ⬜ ⬜ ⬜ ⬜\n",
            "⬜ ⬜ ⬜ ⬜ ⬜\n",
            "⬜ ⬜ ⬜ ⬜ 🏁\n",
            "\n",
            "\n",
            "⬜ ⬜ ⬜ ⬜ ⬜\n",
            "⬜ ⬜ ⬜ ⬜ ⬜\n",
            "⬜ ⬜ ⬜ ⬜ ⬜\n",
            "🤖 ⬜ ⬜ ⬜ ⬜\n",
            "⬜ ⬜ ⬜ ⬜ 🏁\n",
            "\n",
            "\n",
            "⬜ ⬜ ⬜ ⬜ ⬜\n",
            "⬜ ⬜ ⬜ ⬜ ⬜\n",
            "⬜ ⬜ ⬜ ⬜ ⬜\n",
            "⬜ ⬜ ⬜ ⬜ ⬜\n",
            "🤖 ⬜ ⬜ ⬜ 🏁\n",
            "\n",
            "\n",
            "⬜ ⬜ ⬜ ⬜ ⬜\n",
            "⬜ ⬜ ⬜ ⬜ ⬜\n",
            "⬜ ⬜ ⬜ ⬜ ⬜\n",
            "⬜ ⬜ ⬜ ⬜ ⬜\n",
            "⬜ 🤖 ⬜ ⬜ 🏁\n",
            "\n",
            "\n",
            "⬜ ⬜ ⬜ ⬜ ⬜\n",
            "⬜ ⬜ ⬜ ⬜ ⬜\n",
            "⬜ ⬜ ⬜ ⬜ ⬜\n",
            "⬜ ⬜ ⬜ ⬜ ⬜\n",
            "⬜ ⬜ 🤖 ⬜ 🏁\n",
            "\n",
            "\n",
            "⬜ ⬜ ⬜ ⬜ ⬜\n",
            "⬜ ⬜ ⬜ ⬜ ⬜\n",
            "⬜ ⬜ ⬜ ⬜ ⬜\n",
            "⬜ ⬜ ⬜ ⬜ ⬜\n",
            "⬜ ⬜ ⬜ 🤖 🏁\n",
            "\n",
            "\n",
            "⬜ ⬜ ⬜ ⬜ ⬜\n",
            "⬜ ⬜ ⬜ ⬜ ⬜\n",
            "⬜ ⬜ ⬜ ⬜ ⬜\n",
            "⬜ ⬜ ⬜ ⬜ ⬜\n",
            "⬜ ⬜ ⬜ ⬜ 🤖\n",
            "\n",
            "\n"
          ]
        }
      ]
    },
    {
      "cell_type": "markdown",
      "source": [
        "# End of editing the file"
      ],
      "metadata": {
        "id": "zsSe5FrNCIec"
      }
    },
    {
      "cell_type": "code",
      "source": [
        "!ls -al Rummikub-Simulation-with-RL"
      ],
      "metadata": {
        "colab": {
          "base_uri": "https://localhost:8080/"
        },
        "id": "5bbijLvuFOON",
        "outputId": "fefa871c-4be6-4a37-8f5c-f46d663e8446"
      },
      "execution_count": null,
      "outputs": [
        {
          "output_type": "stream",
          "name": "stdout",
          "text": [
            "ls: cannot access 'Rummikub-Simulation-with-RL': No such file or directory\n"
          ]
        }
      ]
    },
    {
      "cell_type": "code",
      "source": [
        "!pwd"
      ],
      "metadata": {
        "colab": {
          "base_uri": "https://localhost:8080/"
        },
        "id": "6EdLdyPqHT-7",
        "outputId": "cb8f794f-acc0-48ec-fc5f-3926eace931b"
      },
      "execution_count": null,
      "outputs": [
        {
          "output_type": "stream",
          "name": "stdout",
          "text": [
            "/content/Rummikub-Simulation-with-RL/Rummikub-Simulation-with-RL\n"
          ]
        }
      ]
    },
    {
      "cell_type": "code",
      "source": [
        "!mv Maze-Charis.ipynb Rummikub-Simulation-with-RL/"
      ],
      "metadata": {
        "colab": {
          "base_uri": "https://localhost:8080/"
        },
        "id": "zjg7o9AaGXpv",
        "outputId": "b48ddedb-8b9c-45da-9c04-5a0699b17742"
      },
      "execution_count": null,
      "outputs": [
        {
          "output_type": "stream",
          "name": "stdout",
          "text": [
            "mv: cannot stat 'Maze-Charis.ipynb': No such file or directory\n"
          ]
        }
      ]
    },
    {
      "cell_type": "code",
      "source": [
        "!git add Maze-Charis.ipynb"
      ],
      "metadata": {
        "colab": {
          "base_uri": "https://localhost:8080/"
        },
        "id": "w8AqwhesCK_V",
        "outputId": "e66e95b5-7bea-44c7-d1b4-958c5e830315"
      },
      "execution_count": null,
      "outputs": [
        {
          "output_type": "stream",
          "name": "stdout",
          "text": [
            "fatal: pathspec 'Maze-Charis.ipynb' did not match any files\n"
          ]
        }
      ]
    },
    {
      "cell_type": "code",
      "source": [
        "!git commit -m \"Add Maze-Charis.ipynb for maze game environment\""
      ],
      "metadata": {
        "id": "EqXIp7Y3COc_"
      },
      "execution_count": null,
      "outputs": []
    },
    {
      "cell_type": "code",
      "source": [
        "!git push origin Maze-game"
      ],
      "metadata": {
        "id": "MvoVX6jrCVpq"
      },
      "execution_count": null,
      "outputs": []
    }
  ]
}